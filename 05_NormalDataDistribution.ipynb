{
 "cells": [
  {
   "cell_type": "markdown",
   "id": "af9edd32-c92c-41d0-9715-ca447603d05a",
   "metadata": {},
   "source": [
    "# Machine Learning - Normal Data Distribution\n",
    "\n",
    "## Normal Data Distribution\n",
    "In the previous chapter we learned how to create a completely random array, of a given size, and between two given values.\n",
    "\n",
    "In this chapter we will learn how to create an array where the values are concentrated around a given value.\n",
    "\n",
    "In probability theory this kind of data distribution is known as the **normal data distribution**, or the **Gaussian data distribution**, after the mathematician Carl Friedrich Gauss who came up with the formula of this data distribution.\n",
    "\n",
    "### Example\n",
    "A typical normal data distribution:"
   ]
  },
  {
   "cell_type": "code",
   "execution_count": 1,
   "id": "cdbf670c-3806-4b78-a3a6-13bd7b1f2b06",
   "metadata": {},
   "outputs": [
    {
     "data": {
      "image/png": "[encoded data removed]",
      "text/plain": [
       "<Figure size 432x288 with 1 Axes>"
      ]
     },
     "metadata": {
      "needs_background": "light"
     },
     "output_type": "display_data"
    }
   ],
   "source": [
    "import numpy\n",
    "import matplotlib.pyplot as plt\n",
    "\n",
    "x = numpy.random.normal(5.0, 1.0, 100000)\n",
    "\n",
    "plt.hist(x, 100)\n",
    "plt.show()"
   ]
  },
  {
   "cell_type": "markdown",
   "id": "31ad37b4-d280-4846-acb0-f7ddc4a7f118",
   "metadata": {},
   "source": [
    "> Note: A normal distribution graph is also known as the bell curve because of it's characteristic shape of a bell.\n",
    "\n",
    "### Histogram Explained\n",
    "We use the array from the **numpy.random.normal()** method, with 100000 values,  to draw a histogram with 100 bars.\n",
    "\n",
    "We specify that the mean value is 5.0, and the standard deviation is 1.0.\n",
    "\n",
    "Meaning that the values should be concentrated around 5.0, and rarely further away than 1.0 from the mean.\n",
    "\n",
    "And as you can see from the histogram, most values are between 4.0 and 6.0, with a top at approximately 5.0."
   ]
  }
 ],
 "metadata": {
  "kernelspec": {
   "display_name": "Python 3 (ipykernel)",
   "language": "python",
   "name": "python3"
  },
  "language_info": {
   "codemirror_mode": {
    "name": "ipython",
    "version": 3
   },
   "file_extension": ".py",
   "mimetype": "text/x-python",
   "name": "python",
   "nbconvert_exporter": "python",
   "pygments_lexer": "ipython3",
   "version": "3.9.12"
  }
 },
 "nbformat": 4,
 "nbformat_minor": 5
}
