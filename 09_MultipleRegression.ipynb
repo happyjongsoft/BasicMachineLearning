{
 "cells": [
  {
   "cell_type": "markdown",
   "id": "fab7dd70-2c2d-4caa-bca2-ce00cc9fbd35",
   "metadata": {},
   "source": [
    "# Machine Learning - Multiple Regression\n",
    "\n",
    "## Multiple Regression\n",
    "Multiple regression is like linear regression, but with more than one independent value, meaning that we try to predict a value based on **two or more** variables.\n",
    "\n",
    "Take a look at the data set below, it contains some information about cars.\n",
    "\n",
    "|Car     |Model  |Volume |Weight |CO2     |\n",
    "|:-------|-------|-------|-------|-------:|\n",
    "|Toyota|Aygo|1000|790|99|\n",
    "|Mitsubishi|Space Star|1200|1160|95|\n",
    "|Skoda|Citigo|1000|929|95|\n",
    "|Fiat|500|900|865|90|\n",
    "|Mini|Cooper|1500|1140|105|\n",
    "|VW|Up!|1000|929|105|\n",
    "|Skoda|Fabia|1400|1109|90|\n",
    "|Mercedes|A-Class|1500|1365|92|\n",
    "|Ford|Fiesta|1500|1112|98|\n",
    "|Audi|A1|1600|1150|99|\n",
    "|Hyundai|I20|1100|980|99|\n",
    "|Suzuki|Swift|1300|990|101|\n",
    "|Ford|Fiesta|1000|1112|99|\n",
    "|Honda|Civic|1600|1252|94|\n",
    "|Hundai|I30|1600|1326|97|\n",
    "|Opel|Astra|1600|1330|97|\n",
    "|BMW|1|1600|1365|99|\n",
    "|Mazda|3|2200|1280|104|\n",
    "|Skoda|Rapid|1600|1119|104|\n",
    "|Ford|Focus|2000|1328|105|\n",
    "|Ford|Mondeo|1600|1584|94|\n",
    "|Opel|Insignia|2000|1428|99|\n",
    "|Mercedes|C-Class|2100|1365|99|\n",
    "|Skoda|Octavia|1600|1415|99|\n",
    "|Volvo|S60|2000|1415|99|\n",
    "|Mercedes|CLA|1500|1465|102|\n",
    "|Audi|A4|2000|1490|104|\n",
    "|Audi|A6|2000|1725|114|\n",
    "|Volvo|V70|1600|1523|109|\n",
    "|BMW|5|2000|1705|114|\n",
    "|Mercedes|E-Class|2100|1605|115|\n",
    "|Volvo|XC70|2000|1746|117|\n",
    "|Ford|B-Max|1600|1235|104|\n",
    "|BMW|2|1600|1390|108|\n",
    "|Opel|Zafira|1600|1405|109|\n",
    "|Mercedes|SLK|2500|1395|120|\n",
    "\n",
    "We can predict the CO2 emission of a car based on the size of the engine, but with multiple regression we can throw in more variables, like the weight of the car, to make the prediction more accurate.\n",
    "\n",
    "## How Does it Work?\n",
    "In Python we have modules that will do the work for us. Start by importing the Pandas module.\n",
    "\n",
    "> import pandas\n",
    "\n",
    "The Pandas module allows us to read csv files and return a DataFrame object.\n",
    "\n",
    "The file is meant for testing purposes only.\n",
    "\n",
    "> df = pandas.read_csv(\"cars.csv\")\n",
    "\n",
    "Then make a list of the independent values and call this variable **X**.\n",
    "\n",
    "Put the dependent values in a variable called **y**.\n",
    "\n",
    "> X = df[['Weight', 'Volume']] </br>\n",
    "> y = df['CO2']\n",
    "\n",
    ">**Tip**: It is common to name the list of independent values with a upper case X, and the list of dependent values with a lower case y.\n",
    "\n",
    "We will use some methods from the sklearn module, so we will have to import that module as well:\n",
    "\n",
    "> from sklearn import linear_model\n",
    "\n",
    "From the sklearn module we will use the **LinearRegression()** method to create a linear regression object.\n",
    "\n",
    "This object has a method called **fit()** that takes the independent and dependent values as parameters and fills the regression object with data that describes the relationship:\n",
    "\n",
    "> regr = linear_model.LinearRegression() </br>\n",
    "> regr.fit(X, y)\n",
    "\n",
    "Now we have a regression object that are ready to predict CO2 values based on a car's weight and volume:\n",
    "\n",
    "> #predict the CO2 emission of a car where the weight is 2300kg, and the volume is 1300cm3: </br>\n",
    "> predictedCO2 = regr.predict([[2300, 1300]])\n",
    "\n",
    "### Example\n",
    "See the whole example in action:"
   ]
  },
  {
   "cell_type": "code",
   "execution_count": 1,
   "id": "c9d50560-6d45-4770-8a8d-7b5b73359e28",
   "metadata": {},
   "outputs": [
    {
     "name": "stdout",
     "output_type": "stream",
     "text": [
      "[107.2087328]\n"
     ]
    }
   ],
   "source": [
    "import pandas\n",
    "from sklearn import linear_model\n",
    "\n",
    "df = pandas.read_csv(\"cars.csv\")\n",
    "\n",
    "X = df[['Weight', 'Volume']]\n",
    "y = df['CO2']\n",
    "\n",
    "regr = linear_model.LinearRegression()\n",
    "regr.fit(X.values, y)\n",
    "\n",
    "#predict the CO2 emission of a car where the weight is 2300kg, and the volume is 1300cm3:\n",
    "predictedCO2 = regr.predict([[2300, 1300]])\n",
    "\n",
    "print(predictedCO2)"
   ]
  },
  {
   "cell_type": "markdown",
   "id": "4a8d7545-5c83-4f89-9a44-0f4bf3b223e5",
   "metadata": {},
   "source": [
    "> **Note** : Here x.values will have only values without headers\n",
    ">> **regr.fit(X, y)** works, but makes warning.\n",
    "\n",
    "We have predicted that a car with 1.3 liter engine, and a weight of 2300 kg, will release approximately 107 grams of CO2 for every kilometer it drives.\n",
    "\n",
    "## Coefficient\n",
    "The coefficient is a factor that describes the relationship with an unknown variable.\n",
    "\n",
    "Example: if **x** is a variable, then **2x** is **x** two times. **x** is the unknown variable, and the number **2** is the coefficient.\n",
    "\n",
    "In this case, we can ask for the coefficient value of weight against CO2, and for volume against CO2. The answer(s) we get tells us what would happen if we increase, or decrease, one of the independent values.\n",
    "\n",
    "### Example\n",
    "Print the coefficient values of the regression object:"
   ]
  },
  {
   "cell_type": "code",
   "execution_count": 2,
   "id": "43cbb2cd-d954-4da5-b0fa-642d3f5101a7",
   "metadata": {},
   "outputs": [
    {
     "name": "stdout",
     "output_type": "stream",
     "text": [
      "[0.00755095 0.00780526]\n"
     ]
    }
   ],
   "source": [
    "import pandas\n",
    "from sklearn import linear_model\n",
    "\n",
    "df = pandas.read_csv(\"cars.csv\")\n",
    "\n",
    "X = df[['Weight', 'Volume']]\n",
    "y = df['CO2']\n",
    "\n",
    "regr = linear_model.LinearRegression()\n",
    "regr.fit(X, y)\n",
    "\n",
    "print(regr.coef_)"
   ]
  },
  {
   "cell_type": "markdown",
   "id": "ee2b33c2-c075-4967-bd14-c956da41be5b",
   "metadata": {},
   "source": [
    "## Result Explained\n",
    "The result array represents the coefficient values of weight and volume.\n",
    "\n",
    "Weight: 0.00755095\n",
    "Volume: 0.00780526\n",
    "\n",
    "These values tell us that if the weight increase by 1kg, the CO2 emission increases by 0.00755095g.\n",
    "\n",
    "And if the engine size (Volume) increases by 1 cm3, the CO2 emission increases by 0.00780526 g.\n",
    "\n",
    "I think that is a fair guess, but let test it!\n",
    "\n",
    "We have already predicted that if a car with a 1300cm3 engine weighs 2300kg, the CO2 emission will be approximately 107g.\n",
    "\n",
    "What if we increase the weight with 1000kg?\n",
    "\n",
    "### Example\n",
    "Copy the example from before, but change the weight from 2300 to 3300:"
   ]
  },
  {
   "cell_type": "code",
   "execution_count": 3,
   "id": "b132634a-c1be-44ad-b8da-5922a602ab7e",
   "metadata": {},
   "outputs": [
    {
     "name": "stdout",
     "output_type": "stream",
     "text": [
      "[114.75968007]\n"
     ]
    }
   ],
   "source": [
    "import pandas\n",
    "from sklearn import linear_model\n",
    "\n",
    "df = pandas.read_csv(\"cars.csv\")\n",
    "\n",
    "X = df[['Weight', 'Volume']]\n",
    "y = df['CO2']\n",
    "\n",
    "regr = linear_model.LinearRegression()\n",
    "regr.fit(X.values, y)\n",
    "\n",
    "predictedCO2 = regr.predict([[3300, 1300]])\n",
    "\n",
    "print(predictedCO2)"
   ]
  },
  {
   "cell_type": "markdown",
   "id": "f88d1350-b915-486e-9a8d-e77b53469211",
   "metadata": {},
   "source": [
    "We have predicted that a car with 1.3 liter engine, and a weight of 3300 kg, will release approximately 115 grams of CO2 for every kilometer it drives.\n",
    "\n",
    "Which shows that the coefficient of 0.00755095 is correct:\n",
    "\n",
    "107.2087328 + (1000 * 0.00755095) = 114.75968"
   ]
  }
 ],
 "metadata": {
  "kernelspec": {
   "display_name": "Python 3 (ipykernel)",
   "language": "python",
   "name": "python3"
  },
  "language_info": {
   "codemirror_mode": {
    "name": "ipython",
    "version": 3
   },
   "file_extension": ".py",
   "mimetype": "text/x-python",
   "name": "python",
   "nbconvert_exporter": "python",
   "pygments_lexer": "ipython3",
   "version": "3.9.12"
  }
 },
 "nbformat": 4,
 "nbformat_minor": 5
}
