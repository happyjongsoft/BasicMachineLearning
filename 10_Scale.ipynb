{
 "cells": [
  {
   "cell_type": "markdown",
   "id": "8e40615b-b47e-4886-bcc7-3a45780ef7aa",
   "metadata": {},
   "source": [
    "# Machine Learning - Scale\n",
    "\n",
    "## Scale Features\n",
    "When your data has different values, and even different measurement units, it can be difficult to compare them. What is kilograms compared to meters? Or altitude compared to time?\n",
    "\n",
    "The answer to this problem is scaling. We can scale data into new values that are easier to compare.\n",
    "\n",
    "Take a look at the table below, it is the same data set that we used in the multiple regression chapter, but this time the volume column contains values in liters instead of cm3 (1.0 instead of 1000).\n",
    "\n",
    "The file is meant for testing purposes only.\n",
    "\n",
    "|Car     |Model  |Volume |Weight |CO2     |\n",
    "|:-------|-------|-------|-------|-------:|\n",
    "|Toyota|Aygo|1.0|790|99|\n",
    "|Mitsubishi|Space Star|1.2|1160|95|\n",
    "|Skoda|Citigo|1.0|929|95|\n",
    "|Fiat|500|0.9|865|90|\n",
    "|Mini|Cooper|1.5|1140|105|\n",
    "|VW|Up!|1.0|929|105|\n",
    "|Skoda|Fabia|1.4|1109|90|\n",
    "|Mercedes|A-Class|1.5|1365|92|\n",
    "|Ford|Fiesta|1.5|1112|98|\n",
    "|Audi|A1|1.6|1150|99|\n",
    "|Hyundai|I20|1.1|980|99|\n",
    "|Suzuki|Swift|1.3|990|101|\n",
    "|Ford|Fiesta|1.0|1112|99|\n",
    "|Honda|Civic|1.6|1252|94|\n",
    "|Hundai|I30|1.6|1326|97|\n",
    "|Opel|Astra|1.6|1330|97|\n",
    "|BMW|1|1.6|1365|99|\n",
    "|Mazda|3|2.2|1280|104|\n",
    "|Skoda|Rapid|1.6|1119|104|\n",
    "|Ford|Focus|2.0|1328|105|\n",
    "|Ford|Mondeo|1.6|1584|94|\n",
    "|Opel|Insignia|2.0|1428|99|\n",
    "|Mercedes|C-Class|2.1|1365|99|\n",
    "|Skoda|Octavia|1.6|1415|99|\n",
    "|Volvo|S60|2.0|1415|99|\n",
    "|Mercedes|CLA|1.5|1465|102|\n",
    "|Audi|A4|2.0|1490|104|\n",
    "|Audi|A6|2.0|1725|114|\n",
    "|Volvo|V70|1.6|1523|109|\n",
    "|BMW|5|2.0|1705|114|\n",
    "|Mercedes|E-Class|2.1|1605|115|\n",
    "|Volvo|XC70|2.0|1746|117|\n",
    "|Ford|B-Max|1.6|1235|104|\n",
    "|BMW|2|1.6|1390|108|\n",
    "|Opel|Zafira|1.6|1405|109|\n",
    "|Mercedes|SLK|2.5|1395|120|\n",
    "\n",
    "It can be difficult to compare the volume 1.0 with the weight 790, but if we scale them both into comparable values, we can easily see how much one value is compared to the other.\n",
    "\n",
    "There are different methods for scaling data, in this tutorial we will use a method called standardization.\n",
    "\n",
    "The standardization method uses this formula:\n",
    "\n",
    "> z = (x - u) / s\n",
    "\n",
    "Where z is the new value, **x** is the original value, **u** is the mean and **s** is the standard deviation.\n",
    "\n",
    "If you take the **weight** column from the data set above, the first value is 790, and the scaled value will be:\n",
    "\n",
    "> (790 - 1292.23) / 238.74 = -2.1\n",
    "\n",
    "If you take the **volume** column from the data set above, the first value is 1.0, and the scaled value will be:\n",
    "\n",
    "> (1.0 - 1.61) / 0.38 = -1.59\n",
    "\n",
    "Now you can compare -2.1 with -1.59 instead of comparing 790 with 1.0.\n",
    "\n",
    "You do not have to do this manually, the Python sklearn module has a method called **StandardScaler()** which returns a Scaler object with methods for transforming data sets.\n",
    "\n",
    "### Example\n",
    "Scale all values in the Weight and Volume columns:"
   ]
  },
  {
   "cell_type": "code",
   "execution_count": 1,
   "id": "634a78de-551d-4ac2-8dd4-3bf15534d935",
   "metadata": {},
   "outputs": [
    {
     "name": "stdout",
     "output_type": "stream",
     "text": [
      "[[-2.10389253 -1.59336644]\n",
      " [-0.55407235 -1.07190106]\n",
      " [-1.52166278 -1.59336644]\n",
      " [-1.78973979 -1.85409913]\n",
      " [-0.63784641 -0.28970299]\n",
      " [-1.52166278 -1.59336644]\n",
      " [-0.76769621 -0.55043568]\n",
      " [ 0.3046118  -0.28970299]\n",
      " [-0.7551301  -0.28970299]\n",
      " [-0.59595938 -0.0289703 ]\n",
      " [-1.30803892 -1.33263375]\n",
      " [-1.26615189 -0.81116837]\n",
      " [-0.7551301  -1.59336644]\n",
      " [-0.16871166 -0.0289703 ]\n",
      " [ 0.14125238 -0.0289703 ]\n",
      " [ 0.15800719 -0.0289703 ]\n",
      " [ 0.3046118  -0.0289703 ]\n",
      " [-0.05142797  1.53542584]\n",
      " [-0.72580918 -0.0289703 ]\n",
      " [ 0.14962979  1.01396046]\n",
      " [ 1.2219378  -0.0289703 ]\n",
      " [ 0.5685001   1.01396046]\n",
      " [ 0.3046118   1.27469315]\n",
      " [ 0.51404696 -0.0289703 ]\n",
      " [ 0.51404696  1.01396046]\n",
      " [ 0.72348212 -0.28970299]\n",
      " [ 0.8281997   1.01396046]\n",
      " [ 1.81254495  1.01396046]\n",
      " [ 0.96642691 -0.0289703 ]\n",
      " [ 1.72877089  1.01396046]\n",
      " [ 1.30990057  1.27469315]\n",
      " [ 1.90050772  1.01396046]\n",
      " [-0.23991961 -0.0289703 ]\n",
      " [ 0.40932938 -0.0289703 ]\n",
      " [ 0.47215993 -0.0289703 ]\n",
      " [ 0.4302729   2.31762392]]\n"
     ]
    }
   ],
   "source": [
    "import pandas\n",
    "from sklearn import linear_model\n",
    "from sklearn.preprocessing import StandardScaler\n",
    "scale = StandardScaler()\n",
    "\n",
    "df = pandas.read_csv(\"cars2.csv\")\n",
    "\n",
    "X = df[['Weight', 'Volume']]\n",
    "\n",
    "scaledX = scale.fit_transform(X)\n",
    "\n",
    "print(scaledX)"
   ]
  },
  {
   "cell_type": "markdown",
   "id": "6fc8c9b9-a1cc-40ad-8f98-3a475bcfe895",
   "metadata": {},
   "source": [
    "### Result:\n",
    "Note that the first two values are -2.1 and -1.59, which corresponds to our calculations:"
   ]
  },
  {
   "cell_type": "markdown",
   "id": "004726b4-f2da-438b-ad29-b419f340ce10",
   "metadata": {},
   "source": [
    "## Predict CO2 Values\n",
    "The task in the **09_MultipleRegression** chapter was to predict the CO2 emission from a car when you only knew its weight and volume.\n",
    "\n",
    "When the data set is scaled, you will have to use the scale when you predict values:\n",
    "\n",
    "### Example\n",
    "Predict the CO2 emission from a 1.3 liter car that weighs 2300 kilograms:"
   ]
  },
  {
   "cell_type": "code",
   "execution_count": 2,
   "id": "3aa1313c-f215-4eec-93d4-7143a3ef82e7",
   "metadata": {},
   "outputs": [
    {
     "name": "stdout",
     "output_type": "stream",
     "text": [
      "[107.2087328]\n"
     ]
    }
   ],
   "source": [
    "import pandas\n",
    "from sklearn import linear_model\n",
    "from sklearn.preprocessing import StandardScaler\n",
    "scale = StandardScaler()\n",
    "\n",
    "df = pandas.read_csv(\"cars2.csv\")\n",
    "\n",
    "X = df[['Weight', 'Volume']]\n",
    "y = df['CO2']\n",
    "\n",
    "scaledX = scale.fit_transform(X.values)\n",
    "\n",
    "regr = linear_model.LinearRegression()\n",
    "regr.fit(scaledX, y)\n",
    "\n",
    "scaled = scale.transform([[2300, 1.3]])\n",
    "\n",
    "predictedCO2 = regr.predict([scaled[0]])\n",
    "print(predictedCO2)"
   ]
  }
 ],
 "metadata": {
  "kernelspec": {
   "display_name": "Python 3 (ipykernel)",
   "language": "python",
   "name": "python3"
  },
  "language_info": {
   "codemirror_mode": {
    "name": "ipython",
    "version": 3
   },
   "file_extension": ".py",
   "mimetype": "text/x-python",
   "name": "python",
   "nbconvert_exporter": "python",
   "pygments_lexer": "ipython3",
   "version": "3.9.12"
  }
 },
 "nbformat": 4,
 "nbformat_minor": 5
}
