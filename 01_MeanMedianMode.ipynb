{
 "cells": [
  {
   "cell_type": "markdown",
   "id": "426f46db-90fc-44ff-a77b-15eeeacf73d8",
   "metadata": {},
   "source": [
    "# Machine Learning - Mean Median Mode\n",
    "## Mean, Median, and Mode\n",
    "What can we learn from looking at a group of numbers?\n",
    "\n",
    "In Machine Learning (and in mathematics) there are often three values that interests us:\n",
    "\n",
    "- **Mean** - The average value\n",
    "\n",
    "- **Median** - The mid point value\n",
    "\n",
    "- **Mode** - The most common value\n",
    "\n",
    "\n",
    "Example: We have registered the speed of 13 cars:\n",
    "\n",
    "> speed = [99,86,87,88,111,86,103,87,94,78,77,85,86]\n",
    "\n",
    "What is the average, the middle, or the most common speed value?"
   ]
  },
  {
   "cell_type": "markdown",
   "id": "71519261-86c6-4a05-8a1d-94991d637933",
   "metadata": {},
   "source": [
    "## Mean\n",
    "The mean value is the average value.\n",
    "\n",
    "To calculate the mean, find the sum of all values, and divide the sum by the number of values:\n",
    "\n",
    "> (99+86+87+88+111+86+103+87+94+78+77+85+86) / 13 = 89.77\n",
    "\n",
    "The **NumPy** module has a method for this.\n",
    "### Example\n",
    "Use the NumPy **mean()** method to find the average speed:"
   ]
  },
  {
   "cell_type": "code",
   "execution_count": 1,
   "id": "5763a917-bf40-43a0-a9e0-5083ba46bca7",
   "metadata": {},
   "outputs": [
    {
     "name": "stdout",
     "output_type": "stream",
     "text": [
      "89.76923076923077\n"
     ]
    }
   ],
   "source": [
    "import numpy\n",
    "\n",
    "speed = [99,86,87,88,111,86,103,87,94,78,77,85,86]\n",
    "\n",
    "x = numpy.mean(speed)\n",
    "\n",
    "print(x)"
   ]
  },
  {
   "cell_type": "markdown",
   "id": "4fffeead-c60f-4778-aa20-58635dce234d",
   "metadata": {},
   "source": [
    "## Median\n",
    "The median value is the value in the middle, after you have sorted all the values:\n",
    "\n",
    "> 77, 78, 85, 86, 86, 86, **87**, 87, 88, 94, 99, 103, 111\n",
    "\n",
    "It is important that the numbers are sorted before you can find the median.\n",
    "\n",
    "The NumPy module has a method for this:\n",
    "\n",
    "### Example\n",
    "Use the NumPy **median()** method to find the middle value:"
   ]
  },
  {
   "cell_type": "code",
   "execution_count": 2,
   "id": "01051289-ffb2-4a81-844b-8036c86b767c",
   "metadata": {},
   "outputs": [
    {
     "name": "stdout",
     "output_type": "stream",
     "text": [
      "87.0\n"
     ]
    }
   ],
   "source": [
    "import numpy\n",
    "\n",
    "speed = [99,86,87,88,111,86,103,87,94,78,77,85,86]\n",
    "\n",
    "x = numpy.median(speed)\n",
    "\n",
    "print(x)"
   ]
  },
  {
   "cell_type": "markdown",
   "id": "53c3bad1-1439-4213-9452-235bb158c237",
   "metadata": {},
   "source": [
    "If there are two numbers in the middle, divide the sum of those numbers by two.\n",
    "\n",
    "> 77, 78, 85, 86, 86, **86, 87**, 87, 94, 98, 99, 103</br>\n",
    "> (86 + 87) / 2 = **86.5**"
   ]
  },
  {
   "cell_type": "code",
   "execution_count": 3,
   "id": "1df61a4d-7dab-49b3-959e-fcf043b8a039",
   "metadata": {},
   "outputs": [
    {
     "name": "stdout",
     "output_type": "stream",
     "text": [
      "86.5\n"
     ]
    }
   ],
   "source": [
    "import numpy\n",
    "\n",
    "speed = [99,86,87,88,86,103,87,94,78,77,85,86]\n",
    "\n",
    "x = numpy.median(speed)\n",
    "\n",
    "print(x)"
   ]
  },
  {
   "cell_type": "markdown",
   "id": "64ba8588-62ac-4e63-8fc8-ad363f8820c9",
   "metadata": {},
   "source": [
    "## Mode\n",
    "The Mode value is the value that appears the most number of times:\n",
    "\n",
    "> 99, **86**, 87, 88, 111, **86**, 103, 87, 94, 78, 77, 85, **86** = 86\n",
    "\n",
    "The **SciPy** module has a method for this.\n",
    "### Example\n",
    "Use the SciPy **mode()** method to find the number that appears the most:"
   ]
  },
  {
   "cell_type": "code",
   "execution_count": 4,
   "id": "359a561b-8f83-4922-a816-8392b9da1fb0",
   "metadata": {},
   "outputs": [
    {
     "name": "stdout",
     "output_type": "stream",
     "text": [
      "ModeResult(mode=array([86]), count=array([3]))\n"
     ]
    }
   ],
   "source": [
    "from scipy import stats\n",
    "\n",
    "speed = [99,86,87,88,111,86,103,87,94,78,77,85,86]\n",
    "\n",
    "x = stats.mode(speed)\n",
    "\n",
    "print(x)"
   ]
  }
 ],
 "metadata": {
  "kernelspec": {
   "display_name": "Python 3 (ipykernel)",
   "language": "python",
   "name": "python3"
  },
  "language_info": {
   "codemirror_mode": {
    "name": "ipython",
    "version": 3
   },
   "file_extension": ".py",
   "mimetype": "text/x-python",
   "name": "python",
   "nbconvert_exporter": "python",
   "pygments_lexer": "ipython3",
   "version": "3.9.12"
  }
 },
 "nbformat": 4,
 "nbformat_minor": 5
}
