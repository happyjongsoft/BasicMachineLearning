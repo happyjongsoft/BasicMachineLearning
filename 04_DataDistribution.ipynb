{
 "cells": [
  {
   "cell_type": "markdown",
   "id": "d915cab6-9107-4cf8-9728-8e2c3bd00715",
   "metadata": {},
   "source": [
    "# Machine Learning - Data Distribution\n",
    "\n",
    "## Data Distribution\n",
    "Earlier in this tutorial we have worked with very small amounts of data in our examples, just to understand the different concepts.\n",
    "\n",
    "In the real world, the data sets are much bigger, but it can be difficult to gather real world data, at least at an early stage of a project.\n",
    "\n",
    "### How Can we Get Big Data Sets?\n",
    "To create big data sets for testing, we use the Python module NumPy, which comes with a number of methods to create random data sets, of any size.\n",
    "\n",
    "### Example\n",
    "Create an array containing 250 random floats between 0 and 5:"
   ]
  },
  {
   "cell_type": "code",
   "execution_count": 1,
   "id": "452c1a8c-90c8-4351-8f3a-b7bf3d1ab4ca",
   "metadata": {},
   "outputs": [
    {
     "name": "stdout",
     "output_type": "stream",
     "text": [
      "[4.73095725 3.84690164 3.61088691 3.75436009 2.69991228 3.43892343\n",
      " 4.32655796 1.49173842 2.33433989 1.82347841 1.35900601 2.09896242\n",
      " 1.72017598 0.53009509 0.49923745 2.13655173 4.90208216 1.11768819\n",
      " 0.56725109 2.01577443 4.60513127 1.7004457  0.57203571 2.51044713\n",
      " 4.90909793 2.70329194 3.30183059 4.9565172  2.85439655 0.27619106\n",
      " 4.0671647  1.79389402 0.03511512 4.7419446  2.39542413 3.73211757\n",
      " 4.89238667 0.41964282 3.45417477 1.48124716 2.78197664 3.26560927\n",
      " 1.48132922 0.4341666  1.18820302 1.46339803 2.02270167 1.51935891\n",
      " 2.47356216 3.61302526 4.98393285 1.56905876 1.35763174 0.0531088\n",
      " 0.61149635 2.5983956  3.35949291 4.32702636 3.7550574  2.66159329\n",
      " 2.95765151 3.70427569 3.35219121 0.94569442 1.65503286 0.57046302\n",
      " 3.16484649 1.49354942 1.35408891 1.09457779 3.91066789 4.74981362\n",
      " 0.46582167 2.04171059 3.41659178 1.07647594 2.4272156  4.1349426\n",
      " 3.04268433 3.22136413 2.35184804 0.74732344 1.49736681 4.01469127\n",
      " 1.36145852 2.44929379 0.40565399 4.31464184 4.33121913 2.27434043\n",
      " 1.03309362 4.1599481  2.23780365 0.77828834 4.1501558  2.79223753\n",
      " 2.62764352 1.80852228 2.56358116 4.78522845 2.59472216 3.62737157\n",
      " 0.73330552 4.37482162 0.58089364 1.4862966  0.70112317 1.83214944\n",
      " 2.37261871 0.15622841 3.71615088 3.71194539 2.01414756 4.81523422\n",
      " 1.35203588 3.41533232 2.87236177 2.60373981 3.95676967 1.48505359\n",
      " 4.68219266 3.76763296 0.26512746 1.97220972 0.67732951 0.03625386\n",
      " 2.01163163 1.51555745 1.13256793 3.44036667 3.45004652 2.42206225\n",
      " 3.87470484 2.63595831 4.85885167 0.13784634 0.95592597 4.74616862\n",
      " 0.1317437  4.76897282 1.79459369 0.69604272 1.01676986 3.20872585\n",
      " 0.289138   0.7232827  1.84778679 4.89724657 4.93586858 1.40039083\n",
      " 1.70270923 0.25298219 2.16881358 2.93175931 4.40867036 4.97420021\n",
      " 0.97882543 2.08823709 1.8190268  4.21424068 4.81638161 0.11389684\n",
      " 4.08367802 4.35530965 3.99314496 2.04150272 1.91189508 2.21667935\n",
      " 0.22238001 4.78051042 1.11321048 1.59284616 0.39514472 0.53738781\n",
      " 3.97352025 4.21465467 4.85722674 0.00929354 1.97510049 2.60496134\n",
      " 0.88403502 2.2402594  3.19198277 2.14465999 4.22492371 4.05801777\n",
      " 3.12418946 3.95417366 3.71860437 2.40765668 2.36582409 2.67973128\n",
      " 3.29752096 1.10403469 1.00484462 4.52400401 1.60030166 3.35373034\n",
      " 3.64811653 4.68555922 3.53945258 3.46299582 1.24913248 1.78108507\n",
      " 2.609294   4.00413973 3.64542506 0.70593555 4.75751099 4.69647949\n",
      " 1.39908609 4.71981819 3.66380002 4.76353954 0.55026295 2.72812698\n",
      " 1.61195511 1.41843143 3.33363295 4.37960311 0.2384733  1.70195872\n",
      " 3.95654588 4.5175646  3.97104057 2.40833615 0.10617334 3.93719222\n",
      " 2.91979745 1.14472837 0.56115944 0.60347016 0.99628625 4.78810174\n",
      " 3.40481679 2.49396437 4.630374   1.3902124  1.93839172 4.7145383\n",
      " 4.27898542 1.03756447 0.67222004 4.82875013 4.08058085 4.93925614\n",
      " 4.50573742 1.27901518 1.52521359 3.88091787]\n"
     ]
    }
   ],
   "source": [
    "import numpy\n",
    "\n",
    "x = numpy.random.uniform(0.0, 5.0, 250)\n",
    "\n",
    "print(x)"
   ]
  },
  {
   "cell_type": "markdown",
   "id": "02cd8e3b-197e-4a33-aabf-545d037caaba",
   "metadata": {},
   "source": [
    "## Histogram\n",
    "To visualize the data set we can draw a histogram with the data we collected.\n",
    "\n",
    "We will use the Python module **Matplotlib** to draw a histogram."
   ]
  },
  {
   "cell_type": "code",
   "execution_count": 2,
   "id": "d9567137-19c2-4b24-9b5a-fa8480953f36",
   "metadata": {},
   "outputs": [
    {
     "data": {
      "image/png": "[encoded data removed]",
      "text/plain": [
       "<Figure size 432x288 with 1 Axes>"
      ]
     },
     "metadata": {
      "needs_background": "light"
     },
     "output_type": "display_data"
    }
   ],
   "source": [
    "import numpy\n",
    "import matplotlib.pyplot as plt\n",
    "\n",
    "x = numpy.random.uniform(0.0, 5.0, 250)\n",
    "\n",
    "plt.hist(x, 5)\n",
    "plt.show()"
   ]
  },
  {
   "cell_type": "markdown",
   "id": "51d286e1-83ab-454e-a964-e1dcccd0cfec",
   "metadata": {},
   "source": [
    "### Histogram Explained\n",
    "We use the array from the example above to draw a histogram with 5 bars.\n",
    "\n",
    "The first bar represents how many values in the array are between 0 and 1.\n",
    "\n",
    "The second bar represents how many values are between 1 and 2.\n",
    "\n",
    "Etc.\n",
    "\n",
    "\n",
    "> Note: The array values are random numbers and will not show the exact same result on your computer.\n",
    "\n",
    "## Big Data Distributions\n",
    "An array containing 250 values is not considered very big, but now you know how to create a random set of values, and by changing the parameters, you can create the data set as big as you want.\n",
    "\n",
    "### Example\n",
    "Create an array with 100000 random numbers, and display them using a histogram with 100 bars:"
   ]
  },
  {
   "cell_type": "code",
   "execution_count": 3,
   "id": "bd658f04-d29d-4c5d-b529-7af7b08619fb",
   "metadata": {},
   "outputs": [
    {
     "data": {
      "image/png": "[encoded data removed]",
      "text/plain": [
       "<Figure size 432x288 with 1 Axes>"
      ]
     },
     "metadata": {
      "needs_background": "light"
     },
     "output_type": "display_data"
    }
   ],
   "source": [
    "import numpy\n",
    "import matplotlib.pyplot as plt\n",
    "\n",
    "x = numpy.random.uniform(0.0, 5.0, 100000)\n",
    "\n",
    "plt.hist(x, 100)\n",
    "plt.show()"
   ]
  }
 ],
 "metadata": {
  "kernelspec": {
   "display_name": "Python 3 (ipykernel)",
   "language": "python",
   "name": "python3"
  },
  "language_info": {
   "codemirror_mode": {
    "name": "ipython",
    "version": 3
   },
   "file_extension": ".py",
   "mimetype": "text/x-python",
   "name": "python",
   "nbconvert_exporter": "python",
   "pygments_lexer": "ipython3",
   "version": "3.9.12"
  }
 },
 "nbformat": 4,
 "nbformat_minor": 5
}
